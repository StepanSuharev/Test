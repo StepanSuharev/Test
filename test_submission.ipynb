{
 "cells": [
  {
   "cell_type": "markdown",
   "id": "a950a97a-a03a-46b9-bd1e-a3d1489f2f0f",
   "metadata": {},
   "source": [
    "# Задача"
   ]
  },
  {
   "cell_type": "markdown",
   "id": "0594b47f-5dcd-4d45-848b-9b666bef24dc",
   "metadata": {},
   "source": [
    "Необходимо классифицировать тестовые данные на два класса, используя временные ряды."
   ]
  },
  {
   "cell_type": "markdown",
   "id": "83221a2c-1f8d-4064-8d37-d02434e95c19",
   "metadata": {},
   "source": [
    "## Загрузка"
   ]
  },
  {
   "cell_type": "code",
   "execution_count": 4,
   "id": "422a4b82-750b-40ae-b9b1-2289e36b7528",
   "metadata": {},
   "outputs": [],
   "source": [
    "import pandas as pd\n",
    "import matplotlib.pyplot as plt\n",
    "import numpy as np\n",
    "import joblib\n",
    "from statistics import mean\n",
    "from sklearn.dummy import DummyClassifier\n",
    "from sklearn.metrics import roc_auc_score\n",
    "from sklearn.model_selection import train_test_split, RandomizedSearchCV, TimeSeriesSplit\n",
    "from sklearn.ensemble import RandomForestClassifier\n",
    "from sklearn.linear_model import LogisticRegression \n",
    "from catboost import CatBoostClassifier\n",
    "from sklearn.svm import SVC\n",
    "from statsmodels.tsa.seasonal import seasonal_decompose"
   ]
  },
  {
   "cell_type": "code",
   "execution_count": 5,
   "id": "d113cb18-78d7-45e4-9730-aef4656b1539",
   "metadata": {},
   "outputs": [],
   "source": [
    "RANDOM_STATE=55\n",
    "np.random.seed(55)"
   ]
  },
  {
   "cell_type": "markdown",
   "id": "8e9d11cd-5b34-4237-9e93-cf135873f276",
   "metadata": {},
   "source": [
    "#### Train"
   ]
  },
  {
   "cell_type": "code",
   "execution_count": 7,
   "id": "25889493-b123-465b-a3f8-e7a94ebfab02",
   "metadata": {},
   "outputs": [],
   "source": [
    "train = pd.read_parquet(\"https://www.dropbox.com/scl/fi/smvtlcas8iel12d6l6lbt/train.parquet?rlkey=j3omi3zxfx4ki13s2r2auta67&st=dbqpihgg&dl=1\")"
   ]
  },
  {
   "cell_type": "code",
   "execution_count": 8,
   "id": "05612bd6-1651-4b6c-b84d-c955536360cd",
   "metadata": {},
   "outputs": [
    {
     "data": {
      "text/html": [
       "<div>\n",
       "<style scoped>\n",
       "    .dataframe tbody tr th:only-of-type {\n",
       "        vertical-align: middle;\n",
       "    }\n",
       "\n",
       "    .dataframe tbody tr th {\n",
       "        vertical-align: top;\n",
       "    }\n",
       "\n",
       "    .dataframe thead th {\n",
       "        text-align: right;\n",
       "    }\n",
       "</style>\n",
       "<table border=\"1\" class=\"dataframe\">\n",
       "  <thead>\n",
       "    <tr style=\"text-align: right;\">\n",
       "      <th></th>\n",
       "      <th>id</th>\n",
       "      <th>dates</th>\n",
       "      <th>values</th>\n",
       "      <th>label</th>\n",
       "    </tr>\n",
       "  </thead>\n",
       "  <tbody>\n",
       "    <tr>\n",
       "      <th>0</th>\n",
       "      <td>19114</td>\n",
       "      <td>[2016-01-01, 2016-02-01, 2016-03-01, 2016-04-0...</td>\n",
       "      <td>[-1.86, 0.79, 1.4, 0.15, 0.0, -1.24, -1.46, 3....</td>\n",
       "      <td>0.0</td>\n",
       "    </tr>\n",
       "    <tr>\n",
       "      <th>1</th>\n",
       "      <td>22769</td>\n",
       "      <td>[2016-05-01, 2016-06-01, 2016-07-01, 2016-08-0...</td>\n",
       "      <td>[-1.04, -3.48, 0.05, -0.13, -0.01, 0.03, 0.27,...</td>\n",
       "      <td>1.0</td>\n",
       "    </tr>\n",
       "    <tr>\n",
       "      <th>2</th>\n",
       "      <td>76935</td>\n",
       "      <td>[2017-03-01, 2017-04-01, 2017-05-01, 2017-06-0...</td>\n",
       "      <td>[0.28, 0.63, 0.06, 0.96, -1.4, -0.3, 1.62, 1.1...</td>\n",
       "      <td>0.0</td>\n",
       "    </tr>\n",
       "    <tr>\n",
       "      <th>3</th>\n",
       "      <td>66297</td>\n",
       "      <td>[2016-01-01, 2016-02-01, 2016-03-01, 2016-04-0...</td>\n",
       "      <td>[-0.33, 0.58, 1.1, -0.56, -0.95, -0.61, -0.7, ...</td>\n",
       "      <td>0.0</td>\n",
       "    </tr>\n",
       "    <tr>\n",
       "      <th>4</th>\n",
       "      <td>2191</td>\n",
       "      <td>[2016-01-01, 2016-02-01, 2016-03-01, 2016-04-0...</td>\n",
       "      <td>[1.31, 0.5, -0.54, 0.95, 0.65, 0.83, -1.55, -0...</td>\n",
       "      <td>0.0</td>\n",
       "    </tr>\n",
       "  </tbody>\n",
       "</table>\n",
       "</div>"
      ],
      "text/plain": [
       "      id                                              dates  \\\n",
       "0  19114  [2016-01-01, 2016-02-01, 2016-03-01, 2016-04-0...   \n",
       "1  22769  [2016-05-01, 2016-06-01, 2016-07-01, 2016-08-0...   \n",
       "2  76935  [2017-03-01, 2017-04-01, 2017-05-01, 2017-06-0...   \n",
       "3  66297  [2016-01-01, 2016-02-01, 2016-03-01, 2016-04-0...   \n",
       "4   2191  [2016-01-01, 2016-02-01, 2016-03-01, 2016-04-0...   \n",
       "\n",
       "                                              values  label  \n",
       "0  [-1.86, 0.79, 1.4, 0.15, 0.0, -1.24, -1.46, 3....    0.0  \n",
       "1  [-1.04, -3.48, 0.05, -0.13, -0.01, 0.03, 0.27,...    1.0  \n",
       "2  [0.28, 0.63, 0.06, 0.96, -1.4, -0.3, 1.62, 1.1...    0.0  \n",
       "3  [-0.33, 0.58, 1.1, -0.56, -0.95, -0.61, -0.7, ...    0.0  \n",
       "4  [1.31, 0.5, -0.54, 0.95, 0.65, 0.83, -1.55, -0...    0.0  "
      ]
     },
     "execution_count": 8,
     "metadata": {},
     "output_type": "execute_result"
    }
   ],
   "source": [
    "train.head()"
   ]
  },
  {
   "cell_type": "code",
   "execution_count": 9,
   "id": "e99d64f9-cfce-4881-875a-6e11eed44f1b",
   "metadata": {},
   "outputs": [
    {
     "name": "stdout",
     "output_type": "stream",
     "text": [
      "<class 'pandas.core.frame.DataFrame'>\n",
      "RangeIndex: 80000 entries, 0 to 79999\n",
      "Data columns (total 4 columns):\n",
      " #   Column  Non-Null Count  Dtype  \n",
      "---  ------  --------------  -----  \n",
      " 0   id      80000 non-null  int64  \n",
      " 1   dates   80000 non-null  object \n",
      " 2   values  80000 non-null  object \n",
      " 3   label   80000 non-null  float64\n",
      "dtypes: float64(1), int64(1), object(2)\n",
      "memory usage: 2.4+ MB\n"
     ]
    }
   ],
   "source": [
    "train.info()"
   ]
  },
  {
   "cell_type": "markdown",
   "id": "945d56f7-50b5-4fd3-9405-dc21d3547187",
   "metadata": {},
   "source": [
    "В таблице присутствует 80000 строк с массивами дат, значений, так же присутствует ID - идентификатор объекта и целевая переменная - label."
   ]
  },
  {
   "cell_type": "code",
   "execution_count": 11,
   "id": "b42c913a-b71f-479e-b2aa-ab1957a83075",
   "metadata": {},
   "outputs": [
    {
     "data": {
      "text/plain": [
       "(80000, 4)"
      ]
     },
     "execution_count": 11,
     "metadata": {},
     "output_type": "execute_result"
    }
   ],
   "source": [
    "train.shape"
   ]
  },
  {
   "cell_type": "code",
   "execution_count": 12,
   "id": "6d3cdfd1-1e56-49df-ba9c-fd26ededd32c",
   "metadata": {},
   "outputs": [
    {
     "data": {
      "text/plain": [
       "0"
      ]
     },
     "execution_count": 12,
     "metadata": {},
     "output_type": "execute_result"
    }
   ],
   "source": [
    "train['id'].duplicated().sum()"
   ]
  },
  {
   "cell_type": "code",
   "execution_count": 13,
   "id": "72f77c95-7889-42a5-8231-f5c660fdfa1e",
   "metadata": {},
   "outputs": [
    {
     "data": {
      "text/plain": [
       "array([0., 1.])"
      ]
     },
     "execution_count": 13,
     "metadata": {},
     "output_type": "execute_result"
    }
   ],
   "source": [
    "train['label'].unique()"
   ]
  },
  {
   "cell_type": "code",
   "execution_count": 14,
   "id": "a17ecbed-e96e-4159-b1dc-6ab4dd52b789",
   "metadata": {},
   "outputs": [
    {
     "data": {
      "text/plain": [
       "label\n",
       "0.0    57820\n",
       "1.0    22180\n",
       "Name: count, dtype: int64"
      ]
     },
     "execution_count": 14,
     "metadata": {},
     "output_type": "execute_result"
    }
   ],
   "source": [
    "train['label'].value_counts()"
   ]
  },
  {
   "cell_type": "markdown",
   "id": "4d37a686-e22d-4a02-92cd-37afba836c2c",
   "metadata": {},
   "source": [
    "Элементов с классом 0 в 2 раза больше, чем с классом 1"
   ]
  },
  {
   "cell_type": "markdown",
   "id": "a3c3c562-c076-4eb7-b7d2-9eeeae128519",
   "metadata": {},
   "source": [
    "Из-за того, что имеются ограничения в ресурсах, возьмем подвыборку."
   ]
  },
  {
   "cell_type": "code",
   "execution_count": 17,
   "id": "be4b9fb8-adaf-40e8-b768-91b50b9e1ff2",
   "metadata": {},
   "outputs": [],
   "source": [
    "train['label'] = train['label'].astype('int')"
   ]
  },
  {
   "cell_type": "markdown",
   "id": "9f31f9f3-c151-4461-9019-7dbc3e06aff2",
   "metadata": {},
   "source": [
    "Для того, чтобы \"стратифицировать\" класс 1, возьмем равное количество элементов "
   ]
  },
  {
   "cell_type": "code",
   "execution_count": 19,
   "id": "36b1136e-371f-4e6a-bc5a-6892fb92f6d9",
   "metadata": {},
   "outputs": [],
   "source": [
    "ones = train[train['label']==1]\n",
    "zeros = train[train['label']==0]"
   ]
  },
  {
   "cell_type": "code",
   "execution_count": 20,
   "id": "2333acb5-41ef-48f4-889d-4a861e6988b4",
   "metadata": {},
   "outputs": [],
   "source": [
    "ones = ones[:5000]\n",
    "zeros = zeros[:5000]"
   ]
  },
  {
   "cell_type": "code",
   "execution_count": 21,
   "id": "0f118be7-cca2-4b0b-b9f4-0b6fcdb3ebca",
   "metadata": {},
   "outputs": [],
   "source": [
    "train = pd.concat([ones, zeros])"
   ]
  },
  {
   "cell_type": "code",
   "execution_count": 22,
   "id": "e77b5cdf-b9a8-4e94-83ef-b80fe6bc2e93",
   "metadata": {},
   "outputs": [
    {
     "data": {
      "text/html": [
       "<div>\n",
       "<style scoped>\n",
       "    .dataframe tbody tr th:only-of-type {\n",
       "        vertical-align: middle;\n",
       "    }\n",
       "\n",
       "    .dataframe tbody tr th {\n",
       "        vertical-align: top;\n",
       "    }\n",
       "\n",
       "    .dataframe thead th {\n",
       "        text-align: right;\n",
       "    }\n",
       "</style>\n",
       "<table border=\"1\" class=\"dataframe\">\n",
       "  <thead>\n",
       "    <tr style=\"text-align: right;\">\n",
       "      <th></th>\n",
       "      <th>id</th>\n",
       "      <th>dates</th>\n",
       "      <th>values</th>\n",
       "      <th>label</th>\n",
       "    </tr>\n",
       "  </thead>\n",
       "  <tbody>\n",
       "    <tr>\n",
       "      <th>1</th>\n",
       "      <td>22769</td>\n",
       "      <td>[2016-05-01, 2016-06-01, 2016-07-01, 2016-08-0...</td>\n",
       "      <td>[-1.04, -3.48, 0.05, -0.13, -0.01, 0.03, 0.27,...</td>\n",
       "      <td>1</td>\n",
       "    </tr>\n",
       "    <tr>\n",
       "      <th>8</th>\n",
       "      <td>87449</td>\n",
       "      <td>[2016-01-01, 2016-02-01, 2016-03-01, 2016-04-0...</td>\n",
       "      <td>[2.92, 4.11, 3.39, -1.17, -0.79, 2.15, -0.22, ...</td>\n",
       "      <td>1</td>\n",
       "    </tr>\n",
       "    <tr>\n",
       "      <th>9</th>\n",
       "      <td>43415</td>\n",
       "      <td>[2016-02-01, 2016-03-01, 2016-04-01, 2016-05-0...</td>\n",
       "      <td>[-0.86, -0.05, -0.35, -0.67, -0.25, -0.8, -0.6...</td>\n",
       "      <td>1</td>\n",
       "    </tr>\n",
       "    <tr>\n",
       "      <th>18</th>\n",
       "      <td>94983</td>\n",
       "      <td>[2019-11-01, 2019-12-01, 2020-01-01, 2020-02-0...</td>\n",
       "      <td>[0.92, 0.11, -0.16, 0.78, -0.49, 1.13, -0.55, ...</td>\n",
       "      <td>1</td>\n",
       "    </tr>\n",
       "    <tr>\n",
       "      <th>20</th>\n",
       "      <td>62582</td>\n",
       "      <td>[2016-02-01, 2016-03-01, 2016-04-01, 2016-05-0...</td>\n",
       "      <td>[1.04, 0.44, 1.24, -1.1, 1.43, -0.53, -0.45, 0...</td>\n",
       "      <td>1</td>\n",
       "    </tr>\n",
       "  </tbody>\n",
       "</table>\n",
       "</div>"
      ],
      "text/plain": [
       "       id                                              dates  \\\n",
       "1   22769  [2016-05-01, 2016-06-01, 2016-07-01, 2016-08-0...   \n",
       "8   87449  [2016-01-01, 2016-02-01, 2016-03-01, 2016-04-0...   \n",
       "9   43415  [2016-02-01, 2016-03-01, 2016-04-01, 2016-05-0...   \n",
       "18  94983  [2019-11-01, 2019-12-01, 2020-01-01, 2020-02-0...   \n",
       "20  62582  [2016-02-01, 2016-03-01, 2016-04-01, 2016-05-0...   \n",
       "\n",
       "                                               values  label  \n",
       "1   [-1.04, -3.48, 0.05, -0.13, -0.01, 0.03, 0.27,...      1  \n",
       "8   [2.92, 4.11, 3.39, -1.17, -0.79, 2.15, -0.22, ...      1  \n",
       "9   [-0.86, -0.05, -0.35, -0.67, -0.25, -0.8, -0.6...      1  \n",
       "18  [0.92, 0.11, -0.16, 0.78, -0.49, 1.13, -0.55, ...      1  \n",
       "20  [1.04, 0.44, 1.24, -1.1, 1.43, -0.53, -0.45, 0...      1  "
      ]
     },
     "execution_count": 22,
     "metadata": {},
     "output_type": "execute_result"
    }
   ],
   "source": [
    "train.head()"
   ]
  },
  {
   "cell_type": "code",
   "execution_count": 23,
   "id": "f6e013b3-9400-4fcd-bd1a-850129f1fb5c",
   "metadata": {},
   "outputs": [
    {
     "data": {
      "text/plain": [
       "(10000, 4)"
      ]
     },
     "execution_count": 23,
     "metadata": {},
     "output_type": "execute_result"
    }
   ],
   "source": [
    "train.shape"
   ]
  },
  {
   "cell_type": "markdown",
   "id": "d51175d0-5393-4466-9751-ee51f6f57692",
   "metadata": {},
   "source": [
    "Развернем данные из таблицы таким образом, чтобы каждому значению из dates соответствовала строка со значением из values"
   ]
  },
  {
   "cell_type": "code",
   "execution_count": 25,
   "id": "29c18576-b895-4fbb-bec7-98b76e71bce6",
   "metadata": {},
   "outputs": [],
   "source": [
    "train['dates'] = train['dates'].apply(lambda x: [pd.to_datetime(d) for d in x])"
   ]
  },
  {
   "cell_type": "code",
   "execution_count": 26,
   "id": "a80a2308-b85f-4e7d-8cb9-30096c6f3b28",
   "metadata": {},
   "outputs": [],
   "source": [
    "new_train = pd.DataFrame({\n",
    "  'id': train['id'].repeat(train['dates'].str.len()),\n",
    "  'date': [date for dates in train['dates'] for date in dates],\n",
    "  'value': [value for values in train['values'] for value in values],\n",
    "  'label': train['label'].repeat(train['dates'].str.len())\n",
    "})"
   ]
  },
  {
   "cell_type": "code",
   "execution_count": 27,
   "id": "898bb977-17ec-4cd7-9e65-df5ed48054ab",
   "metadata": {},
   "outputs": [
    {
     "data": {
      "text/html": [
       "<div>\n",
       "<style scoped>\n",
       "    .dataframe tbody tr th:only-of-type {\n",
       "        vertical-align: middle;\n",
       "    }\n",
       "\n",
       "    .dataframe tbody tr th {\n",
       "        vertical-align: top;\n",
       "    }\n",
       "\n",
       "    .dataframe thead th {\n",
       "        text-align: right;\n",
       "    }\n",
       "</style>\n",
       "<table border=\"1\" class=\"dataframe\">\n",
       "  <thead>\n",
       "    <tr style=\"text-align: right;\">\n",
       "      <th></th>\n",
       "      <th>id</th>\n",
       "      <th>date</th>\n",
       "      <th>value</th>\n",
       "      <th>label</th>\n",
       "    </tr>\n",
       "  </thead>\n",
       "  <tbody>\n",
       "    <tr>\n",
       "      <th>1</th>\n",
       "      <td>22769</td>\n",
       "      <td>2016-05-01</td>\n",
       "      <td>-1.04</td>\n",
       "      <td>1</td>\n",
       "    </tr>\n",
       "    <tr>\n",
       "      <th>1</th>\n",
       "      <td>22769</td>\n",
       "      <td>2016-06-01</td>\n",
       "      <td>-3.48</td>\n",
       "      <td>1</td>\n",
       "    </tr>\n",
       "    <tr>\n",
       "      <th>1</th>\n",
       "      <td>22769</td>\n",
       "      <td>2016-07-01</td>\n",
       "      <td>0.05</td>\n",
       "      <td>1</td>\n",
       "    </tr>\n",
       "    <tr>\n",
       "      <th>1</th>\n",
       "      <td>22769</td>\n",
       "      <td>2016-08-01</td>\n",
       "      <td>-0.13</td>\n",
       "      <td>1</td>\n",
       "    </tr>\n",
       "    <tr>\n",
       "      <th>1</th>\n",
       "      <td>22769</td>\n",
       "      <td>2016-09-01</td>\n",
       "      <td>-0.01</td>\n",
       "      <td>1</td>\n",
       "    </tr>\n",
       "  </tbody>\n",
       "</table>\n",
       "</div>"
      ],
      "text/plain": [
       "      id       date  value  label\n",
       "1  22769 2016-05-01  -1.04      1\n",
       "1  22769 2016-06-01  -3.48      1\n",
       "1  22769 2016-07-01   0.05      1\n",
       "1  22769 2016-08-01  -0.13      1\n",
       "1  22769 2016-09-01  -0.01      1"
      ]
     },
     "execution_count": 27,
     "metadata": {},
     "output_type": "execute_result"
    }
   ],
   "source": [
    "new_train.head()"
   ]
  },
  {
   "cell_type": "code",
   "execution_count": 28,
   "id": "d44ee389-6d7e-4b0e-8467-f9f885d4f167",
   "metadata": {},
   "outputs": [
    {
     "name": "stdout",
     "output_type": "stream",
     "text": [
      "<class 'pandas.core.frame.DataFrame'>\n",
      "Index: 643042 entries, 1 to 6913\n",
      "Data columns (total 4 columns):\n",
      " #   Column  Non-Null Count   Dtype         \n",
      "---  ------  --------------   -----         \n",
      " 0   id      643042 non-null  int64         \n",
      " 1   date    643042 non-null  datetime64[ns]\n",
      " 2   value   641939 non-null  float64       \n",
      " 3   label   643042 non-null  int32         \n",
      "dtypes: datetime64[ns](1), float64(1), int32(1), int64(1)\n",
      "memory usage: 22.1 MB\n"
     ]
    }
   ],
   "source": [
    "new_train.info()"
   ]
  },
  {
   "cell_type": "markdown",
   "id": "8e2ec858-0b56-4f5c-a618-66ba7519cdc7",
   "metadata": {},
   "source": [
    "В результате развертки подвыборки получаем 643042 строки"
   ]
  },
  {
   "cell_type": "markdown",
   "id": "8cd5db86-9114-4c49-9aa7-b5ccfbbb2015",
   "metadata": {},
   "source": [
    "#### Test"
   ]
  },
  {
   "cell_type": "markdown",
   "id": "9db526f0-c623-490e-bf70-41437acd305e",
   "metadata": {},
   "source": [
    "Проделаем подобную развертку с тестовой выборкой"
   ]
  },
  {
   "cell_type": "code",
   "execution_count": 32,
   "id": "74615a19-b226-4110-8e5b-4989ce96156d",
   "metadata": {},
   "outputs": [],
   "source": [
    "test = pd.read_parquet(\"https://www.dropbox.com/scl/fi/iy4il4b2248czc3bmd4kf/test.parquet?rlkey=d7z4q0wwelj0f7qpb1lj485pe&st=crox5j23&dl=1\")"
   ]
  },
  {
   "cell_type": "code",
   "execution_count": 33,
   "id": "07f98773-4b95-4062-aba4-f224d9450188",
   "metadata": {},
   "outputs": [
    {
     "data": {
      "text/html": [
       "<div>\n",
       "<style scoped>\n",
       "    .dataframe tbody tr th:only-of-type {\n",
       "        vertical-align: middle;\n",
       "    }\n",
       "\n",
       "    .dataframe tbody tr th {\n",
       "        vertical-align: top;\n",
       "    }\n",
       "\n",
       "    .dataframe thead th {\n",
       "        text-align: right;\n",
       "    }\n",
       "</style>\n",
       "<table border=\"1\" class=\"dataframe\">\n",
       "  <thead>\n",
       "    <tr style=\"text-align: right;\">\n",
       "      <th></th>\n",
       "      <th>id</th>\n",
       "      <th>dates</th>\n",
       "      <th>values</th>\n",
       "    </tr>\n",
       "  </thead>\n",
       "  <tbody>\n",
       "    <tr>\n",
       "      <th>0</th>\n",
       "      <td>6125</td>\n",
       "      <td>[2016-01-01, 2016-02-01, 2016-03-01, 2016-04-0...</td>\n",
       "      <td>[1.85, -0.04, 0.19, -0.45, -0.75, -0.95, -2.91...</td>\n",
       "    </tr>\n",
       "    <tr>\n",
       "      <th>1</th>\n",
       "      <td>26781</td>\n",
       "      <td>[2016-01-01, 2016-02-01, 2016-03-01, 2016-04-0...</td>\n",
       "      <td>[-0.41, 0.39, -0.47, -0.9, -1.46, -0.51, 0.51,...</td>\n",
       "    </tr>\n",
       "    <tr>\n",
       "      <th>2</th>\n",
       "      <td>13333</td>\n",
       "      <td>[2016-06-01, 2016-07-01, 2016-08-01, 2016-09-0...</td>\n",
       "      <td>[-0.29, -1.26, 0.17, -1.22, 0.45, -0.94, 0.16,...</td>\n",
       "    </tr>\n",
       "    <tr>\n",
       "      <th>3</th>\n",
       "      <td>53218</td>\n",
       "      <td>[2016-01-01, 2016-02-01, 2016-03-01, 2016-04-0...</td>\n",
       "      <td>[-1.47, 1.55, -0.03, 0.57, -0.57, 0.6, 0.27, 1...</td>\n",
       "    </tr>\n",
       "    <tr>\n",
       "      <th>4</th>\n",
       "      <td>84204</td>\n",
       "      <td>[2016-01-01, 2016-02-01, 2016-03-01, 2016-04-0...</td>\n",
       "      <td>[2.33, 1.39, -1.03, -2.64, 1.89, 1.77, 1.43, 1...</td>\n",
       "    </tr>\n",
       "  </tbody>\n",
       "</table>\n",
       "</div>"
      ],
      "text/plain": [
       "      id                                              dates  \\\n",
       "0   6125  [2016-01-01, 2016-02-01, 2016-03-01, 2016-04-0...   \n",
       "1  26781  [2016-01-01, 2016-02-01, 2016-03-01, 2016-04-0...   \n",
       "2  13333  [2016-06-01, 2016-07-01, 2016-08-01, 2016-09-0...   \n",
       "3  53218  [2016-01-01, 2016-02-01, 2016-03-01, 2016-04-0...   \n",
       "4  84204  [2016-01-01, 2016-02-01, 2016-03-01, 2016-04-0...   \n",
       "\n",
       "                                              values  \n",
       "0  [1.85, -0.04, 0.19, -0.45, -0.75, -0.95, -2.91...  \n",
       "1  [-0.41, 0.39, -0.47, -0.9, -1.46, -0.51, 0.51,...  \n",
       "2  [-0.29, -1.26, 0.17, -1.22, 0.45, -0.94, 0.16,...  \n",
       "3  [-1.47, 1.55, -0.03, 0.57, -0.57, 0.6, 0.27, 1...  \n",
       "4  [2.33, 1.39, -1.03, -2.64, 1.89, 1.77, 1.43, 1...  "
      ]
     },
     "execution_count": 33,
     "metadata": {},
     "output_type": "execute_result"
    }
   ],
   "source": [
    "test.head()"
   ]
  },
  {
   "cell_type": "code",
   "execution_count": 34,
   "id": "1fe8ea58-5dff-44fb-8776-a4c2903eb63b",
   "metadata": {},
   "outputs": [
    {
     "data": {
      "text/plain": [
       "(20000, 3)"
      ]
     },
     "execution_count": 34,
     "metadata": {},
     "output_type": "execute_result"
    }
   ],
   "source": [
    "test.shape"
   ]
  },
  {
   "cell_type": "code",
   "execution_count": 35,
   "id": "a697cf40-bab0-48b3-adf1-8a01c8e0fc82",
   "metadata": {},
   "outputs": [],
   "source": [
    "test['dates'] = test['dates'].apply(lambda x: [pd.to_datetime(d) for d in x])"
   ]
  },
  {
   "cell_type": "code",
   "execution_count": 36,
   "id": "d4fe0ef6-1c76-457c-b888-71e307361470",
   "metadata": {},
   "outputs": [],
   "source": [
    "new_test = pd.DataFrame({\n",
    "  'id': test['id'].repeat(test['dates'].str.len()),\n",
    "  'date': [date for dates in test['dates'] for date in dates],\n",
    "  'value': [value for values in test['values'] for value in values]\n",
    "})"
   ]
  },
  {
   "cell_type": "code",
   "execution_count": 37,
   "id": "abc5bd71-ecf1-4a2e-9a02-93f16cfdc9b6",
   "metadata": {},
   "outputs": [
    {
     "data": {
      "text/html": [
       "<div>\n",
       "<style scoped>\n",
       "    .dataframe tbody tr th:only-of-type {\n",
       "        vertical-align: middle;\n",
       "    }\n",
       "\n",
       "    .dataframe tbody tr th {\n",
       "        vertical-align: top;\n",
       "    }\n",
       "\n",
       "    .dataframe thead th {\n",
       "        text-align: right;\n",
       "    }\n",
       "</style>\n",
       "<table border=\"1\" class=\"dataframe\">\n",
       "  <thead>\n",
       "    <tr style=\"text-align: right;\">\n",
       "      <th></th>\n",
       "      <th>id</th>\n",
       "      <th>date</th>\n",
       "      <th>value</th>\n",
       "    </tr>\n",
       "  </thead>\n",
       "  <tbody>\n",
       "    <tr>\n",
       "      <th>0</th>\n",
       "      <td>6125</td>\n",
       "      <td>2016-01-01</td>\n",
       "      <td>1.85</td>\n",
       "    </tr>\n",
       "    <tr>\n",
       "      <th>0</th>\n",
       "      <td>6125</td>\n",
       "      <td>2016-02-01</td>\n",
       "      <td>-0.04</td>\n",
       "    </tr>\n",
       "    <tr>\n",
       "      <th>0</th>\n",
       "      <td>6125</td>\n",
       "      <td>2016-03-01</td>\n",
       "      <td>0.19</td>\n",
       "    </tr>\n",
       "    <tr>\n",
       "      <th>0</th>\n",
       "      <td>6125</td>\n",
       "      <td>2016-04-01</td>\n",
       "      <td>-0.45</td>\n",
       "    </tr>\n",
       "    <tr>\n",
       "      <th>0</th>\n",
       "      <td>6125</td>\n",
       "      <td>2016-05-01</td>\n",
       "      <td>-0.75</td>\n",
       "    </tr>\n",
       "  </tbody>\n",
       "</table>\n",
       "</div>"
      ],
      "text/plain": [
       "     id       date  value\n",
       "0  6125 2016-01-01   1.85\n",
       "0  6125 2016-02-01  -0.04\n",
       "0  6125 2016-03-01   0.19\n",
       "0  6125 2016-04-01  -0.45\n",
       "0  6125 2016-05-01  -0.75"
      ]
     },
     "execution_count": 37,
     "metadata": {},
     "output_type": "execute_result"
    }
   ],
   "source": [
    "new_test.head()"
   ]
  },
  {
   "cell_type": "code",
   "execution_count": 38,
   "id": "4e208303-e74a-4f9e-9722-5baa6f9244ba",
   "metadata": {},
   "outputs": [
    {
     "data": {
      "text/plain": [
       "20000"
      ]
     },
     "execution_count": 38,
     "metadata": {},
     "output_type": "execute_result"
    }
   ],
   "source": [
    "len(new_test['id'].unique())"
   ]
  },
  {
   "cell_type": "code",
   "execution_count": 39,
   "id": "b1568951-ab92-4a9a-8c44-72076e07c7b4",
   "metadata": {},
   "outputs": [
    {
     "data": {
      "text/plain": [
       "(1286952, 3)"
      ]
     },
     "execution_count": 39,
     "metadata": {},
     "output_type": "execute_result"
    }
   ],
   "source": [
    "new_test.shape"
   ]
  },
  {
   "cell_type": "markdown",
   "id": "cfde9aa2-05b5-4a1d-9462-940c45134844",
   "metadata": {},
   "source": [
    "В итоге, из 20000 строк получили 1286952 значения"
   ]
  },
  {
   "cell_type": "markdown",
   "id": "d628ef37-4fbc-40ca-b082-2698f52ebd35",
   "metadata": {},
   "source": [
    "## Анализ"
   ]
  },
  {
   "cell_type": "code",
   "execution_count": 42,
   "id": "34385804-3a3e-498d-9b10-0b0c36898cc2",
   "metadata": {},
   "outputs": [
    {
     "data": {
      "image/png": "[encoded data removed]",
      "text/plain": [
       "<Figure size 640x480 with 1 Axes>"
      ]
     },
     "metadata": {},
     "output_type": "display_data"
    }
   ],
   "source": [
    "new_train['value'].hist(bins=50)\n",
    "plt.title('Распределение значений наблюдений')\n",
    "plt.xlabel('Значения')\n",
    "plt.ylabel('Количество')\n",
    "plt.show()"
   ]
  },
  {
   "cell_type": "code",
   "execution_count": 43,
   "id": "80fe3c7d-535e-4a1a-9d7e-cda79920a8d1",
   "metadata": {},
   "outputs": [
    {
     "data": {
      "text/plain": [
       "label\n",
       "0    324139\n",
       "1    318903\n",
       "Name: count, dtype: int64"
      ]
     },
     "execution_count": 43,
     "metadata": {},
     "output_type": "execute_result"
    }
   ],
   "source": [
    "new_train['label'].value_counts()"
   ]
  },
  {
   "cell_type": "markdown",
   "id": "016ffae0-7fa7-4df0-a967-54dd3f0db411",
   "metadata": {},
   "source": [
    "Можно заметить, что распределение - нормальное и большее значение наблюдений находятся в пределах [-1, 0]."
   ]
  },
  {
   "cell_type": "markdown",
   "id": "4d34dab1-18e6-4d1a-9fe5-b0d4bc394c5f",
   "metadata": {},
   "source": [
    "Из-за того, что временные ряды независимы друг от друга, возьмем один случайный элемент для анализа"
   ]
  },
  {
   "cell_type": "code",
   "execution_count": 46,
   "id": "f49e349f-1278-4c33-a35c-47ab97cbe19a",
   "metadata": {},
   "outputs": [
    {
     "data": {
      "image/png": "[encoded data removed]",
      "text/plain": [
       "<Figure size 640x480 with 1 Axes>"
      ]
     },
     "metadata": {},
     "output_type": "display_data"
    }
   ],
   "source": [
    "loced = new_train[new_train['id']==87499].loc[:, ['date', 'value']]\n",
    "plt.plot(loced['date'], loced['value'])\n",
    "plt.title('График зависимости даты от значения для объекта 86990')\n",
    "plt.xlabel('Дата')\n",
    "plt.ylabel('Значение')\n",
    "plt.show()"
   ]
  },
  {
   "cell_type": "markdown",
   "id": "98c0efd5-4f7c-4fe7-9fc6-ed2e5fa7f4d9",
   "metadata": {},
   "source": [
    "В данном случае можем наблюдать тренд на уменьшение значения. Отчетливой сезонности не заметно"
   ]
  },
  {
   "cell_type": "markdown",
   "id": "9195e2d9-8363-41c2-a6ee-e14c5b006137",
   "metadata": {},
   "source": [
    "## Добавление признаков"
   ]
  },
  {
   "cell_type": "markdown",
   "id": "e541494a-34c7-47eb-93a1-fa1f75603cb8",
   "metadata": {},
   "source": [
    "Добавим признаки:\n",
    "* скользящее среднее\n",
    "* год\n",
    "* месяц\n",
    "* день недели\n",
    "* смещение"
   ]
  },
  {
   "cell_type": "markdown",
   "id": "47ad0aa0-4ca6-4ae3-bda0-c96f075d3e91",
   "metadata": {},
   "source": [
    "#### Train"
   ]
  },
  {
   "cell_type": "code",
   "execution_count": 51,
   "id": "8e44bfd2-3fbd-467e-89da-f300b10fb858",
   "metadata": {},
   "outputs": [
    {
     "name": "stderr",
     "output_type": "stream",
     "text": [
      "C:\\Users\\Степан Сухарев\\AppData\\Local\\Temp\\ipykernel_14440\\443918597.py:1: FutureWarning: The previous implementation of stack is deprecated and will be removed in a future version of pandas. See the What's New notes for pandas 2.1.0 for details. Specify future_stack=True to adopt the new implementation and silence this warning.\n",
      "  new_train = new_train.set_index(['id', 'date']).unstack(fill_value=0).stack().reset_index()\n"
     ]
    }
   ],
   "source": [
    "new_train = new_train.set_index(['id', 'date']).unstack(fill_value=0).stack().reset_index()\n",
    "new_train['rolling_mean'] = new_train.groupby('id')['value'].transform(lambda x: x.rolling(window=3).mean())"
   ]
  },
  {
   "cell_type": "code",
   "execution_count": 52,
   "id": "9936b557-1a95-4e09-af44-7abd0ac21733",
   "metadata": {},
   "outputs": [],
   "source": [
    "new_train['year'] = new_train['date'].dt.year \n",
    "new_train['month'] = new_train['date'].dt.month\n",
    "#new_train['day'] = new_train['date'].dt.day \n",
    "new_train['day_of_week'] = new_train['date'].dt.dayofweek\n",
    "new_train['lag_value_1'] = new_train['value'].shift(1)\n",
    "new_train['lag_value_2'] = new_train['value'].shift(2)\n",
    "new_train['lag_value_3'] = new_train['value'].shift(3)"
   ]
  },
  {
   "cell_type": "code",
   "execution_count": 53,
   "id": "b137dc94-ef11-4157-91ae-b952c09db3f2",
   "metadata": {},
   "outputs": [
    {
     "data": {
      "text/html": [
       "<div>\n",
       "<style scoped>\n",
       "    .dataframe tbody tr th:only-of-type {\n",
       "        vertical-align: middle;\n",
       "    }\n",
       "\n",
       "    .dataframe tbody tr th {\n",
       "        vertical-align: top;\n",
       "    }\n",
       "\n",
       "    .dataframe thead th {\n",
       "        text-align: right;\n",
       "    }\n",
       "</style>\n",
       "<table border=\"1\" class=\"dataframe\">\n",
       "  <thead>\n",
       "    <tr style=\"text-align: right;\">\n",
       "      <th></th>\n",
       "      <th>id</th>\n",
       "      <th>date</th>\n",
       "      <th>value</th>\n",
       "      <th>label</th>\n",
       "      <th>rolling_mean</th>\n",
       "      <th>year</th>\n",
       "      <th>month</th>\n",
       "      <th>day_of_week</th>\n",
       "      <th>lag_value_1</th>\n",
       "      <th>lag_value_2</th>\n",
       "      <th>lag_value_3</th>\n",
       "    </tr>\n",
       "  </thead>\n",
       "  <tbody>\n",
       "    <tr>\n",
       "      <th>0</th>\n",
       "      <td>15</td>\n",
       "      <td>2016-01-01</td>\n",
       "      <td>0.0</td>\n",
       "      <td>0</td>\n",
       "      <td>NaN</td>\n",
       "      <td>2016</td>\n",
       "      <td>1</td>\n",
       "      <td>4</td>\n",
       "      <td>NaN</td>\n",
       "      <td>NaN</td>\n",
       "      <td>NaN</td>\n",
       "    </tr>\n",
       "    <tr>\n",
       "      <th>1</th>\n",
       "      <td>15</td>\n",
       "      <td>2016-02-01</td>\n",
       "      <td>0.0</td>\n",
       "      <td>0</td>\n",
       "      <td>NaN</td>\n",
       "      <td>2016</td>\n",
       "      <td>2</td>\n",
       "      <td>0</td>\n",
       "      <td>0.0</td>\n",
       "      <td>NaN</td>\n",
       "      <td>NaN</td>\n",
       "    </tr>\n",
       "    <tr>\n",
       "      <th>2</th>\n",
       "      <td>15</td>\n",
       "      <td>2016-03-01</td>\n",
       "      <td>0.0</td>\n",
       "      <td>0</td>\n",
       "      <td>0.0</td>\n",
       "      <td>2016</td>\n",
       "      <td>3</td>\n",
       "      <td>1</td>\n",
       "      <td>0.0</td>\n",
       "      <td>0.0</td>\n",
       "      <td>NaN</td>\n",
       "    </tr>\n",
       "    <tr>\n",
       "      <th>3</th>\n",
       "      <td>15</td>\n",
       "      <td>2016-04-01</td>\n",
       "      <td>0.0</td>\n",
       "      <td>0</td>\n",
       "      <td>0.0</td>\n",
       "      <td>2016</td>\n",
       "      <td>4</td>\n",
       "      <td>4</td>\n",
       "      <td>0.0</td>\n",
       "      <td>0.0</td>\n",
       "      <td>0.0</td>\n",
       "    </tr>\n",
       "    <tr>\n",
       "      <th>4</th>\n",
       "      <td>15</td>\n",
       "      <td>2016-05-01</td>\n",
       "      <td>0.0</td>\n",
       "      <td>0</td>\n",
       "      <td>0.0</td>\n",
       "      <td>2016</td>\n",
       "      <td>5</td>\n",
       "      <td>6</td>\n",
       "      <td>0.0</td>\n",
       "      <td>0.0</td>\n",
       "      <td>0.0</td>\n",
       "    </tr>\n",
       "  </tbody>\n",
       "</table>\n",
       "</div>"
      ],
      "text/plain": [
       "   id       date  value  label  rolling_mean  year  month  day_of_week  \\\n",
       "0  15 2016-01-01    0.0      0           NaN  2016      1            4   \n",
       "1  15 2016-02-01    0.0      0           NaN  2016      2            0   \n",
       "2  15 2016-03-01    0.0      0           0.0  2016      3            1   \n",
       "3  15 2016-04-01    0.0      0           0.0  2016      4            4   \n",
       "4  15 2016-05-01    0.0      0           0.0  2016      5            6   \n",
       "\n",
       "   lag_value_1  lag_value_2  lag_value_3  \n",
       "0          NaN          NaN          NaN  \n",
       "1          0.0          NaN          NaN  \n",
       "2          0.0          0.0          NaN  \n",
       "3          0.0          0.0          0.0  \n",
       "4          0.0          0.0          0.0  "
      ]
     },
     "execution_count": 53,
     "metadata": {},
     "output_type": "execute_result"
    }
   ],
   "source": [
    "new_train.head()"
   ]
  },
  {
   "cell_type": "code",
   "execution_count": 54,
   "id": "3113e225-a696-4957-8e49-c6705e91d881",
   "metadata": {},
   "outputs": [],
   "source": [
    "new_train.dropna(inplace=True)"
   ]
  },
  {
   "cell_type": "code",
   "execution_count": 55,
   "id": "1d9b9bc3-e2cd-49bd-8d33-374df870fab5",
   "metadata": {},
   "outputs": [
    {
     "data": {
      "text/plain": [
       "id              0\n",
       "date            0\n",
       "value           0\n",
       "label           0\n",
       "rolling_mean    0\n",
       "year            0\n",
       "month           0\n",
       "day_of_week     0\n",
       "lag_value_1     0\n",
       "lag_value_2     0\n",
       "lag_value_3     0\n",
       "dtype: int64"
      ]
     },
     "execution_count": 55,
     "metadata": {},
     "output_type": "execute_result"
    }
   ],
   "source": [
    "new_train.isna().sum()"
   ]
  },
  {
   "cell_type": "markdown",
   "id": "c3d374c1-2246-415b-9c07-1460c903fb59",
   "metadata": {},
   "source": [
    "#### TEST"
   ]
  },
  {
   "cell_type": "code",
   "execution_count": 57,
   "id": "b0faa4bc-0973-4a15-92ee-ef39897b3b87",
   "metadata": {},
   "outputs": [],
   "source": [
    "def additional_features(df):\n",
    "    df = df.set_index(['id', 'date']).unstack(fill_value=0).stack().reset_index()\n",
    "    df['rolling_mean'] = df.groupby('id')['value'].transform(lambda x: x.rolling(window=3).mean())\n",
    "    df['year'] = df['date'].dt.year \n",
    "    df['month'] = df['date'].dt.month\n",
    "    #new_train['day'] = new_train['date'].dt.day \n",
    "    df['day_of_week'] = df['date'].dt.dayofweek\n",
    "    df['lag_value_1'] = df['value'].shift(1)\n",
    "    df['lag_value_2'] = df['value'].shift(2)\n",
    "    df['lag_value_3'] = df['value'].shift(3)\n",
    "    df.dropna(inplace=True)\n",
    "    return df"
   ]
  },
  {
   "cell_type": "code",
   "execution_count": 58,
   "id": "3e15e098-f042-4767-8ffa-3a3204aa5f30",
   "metadata": {},
   "outputs": [
    {
     "name": "stderr",
     "output_type": "stream",
     "text": [
      "C:\\Users\\Степан Сухарев\\AppData\\Local\\Temp\\ipykernel_14440\\998571782.py:2: FutureWarning: The previous implementation of stack is deprecated and will be removed in a future version of pandas. See the What's New notes for pandas 2.1.0 for details. Specify future_stack=True to adopt the new implementation and silence this warning.\n",
      "  df = df.set_index(['id', 'date']).unstack(fill_value=0).stack().reset_index()\n"
     ]
    }
   ],
   "source": [
    "new_test = additional_features(new_test)"
   ]
  },
  {
   "cell_type": "code",
   "execution_count": 59,
   "id": "cfd3f8b7-d6d7-48b6-9758-10898f5b190e",
   "metadata": {},
   "outputs": [
    {
     "data": {
      "text/html": [
       "<div>\n",
       "<style scoped>\n",
       "    .dataframe tbody tr th:only-of-type {\n",
       "        vertical-align: middle;\n",
       "    }\n",
       "\n",
       "    .dataframe tbody tr th {\n",
       "        vertical-align: top;\n",
       "    }\n",
       "\n",
       "    .dataframe thead th {\n",
       "        text-align: right;\n",
       "    }\n",
       "</style>\n",
       "<table border=\"1\" class=\"dataframe\">\n",
       "  <thead>\n",
       "    <tr style=\"text-align: right;\">\n",
       "      <th></th>\n",
       "      <th>id</th>\n",
       "      <th>date</th>\n",
       "      <th>value</th>\n",
       "      <th>rolling_mean</th>\n",
       "      <th>year</th>\n",
       "      <th>month</th>\n",
       "      <th>day_of_week</th>\n",
       "      <th>lag_value_1</th>\n",
       "      <th>lag_value_2</th>\n",
       "      <th>lag_value_3</th>\n",
       "    </tr>\n",
       "  </thead>\n",
       "  <tbody>\n",
       "    <tr>\n",
       "      <th>3</th>\n",
       "      <td>2</td>\n",
       "      <td>2016-04-01</td>\n",
       "      <td>-1.00</td>\n",
       "      <td>0.190000</td>\n",
       "      <td>2016</td>\n",
       "      <td>4</td>\n",
       "      <td>4</td>\n",
       "      <td>0.08</td>\n",
       "      <td>1.49</td>\n",
       "      <td>0.78</td>\n",
       "    </tr>\n",
       "    <tr>\n",
       "      <th>4</th>\n",
       "      <td>2</td>\n",
       "      <td>2016-05-01</td>\n",
       "      <td>1.83</td>\n",
       "      <td>0.303333</td>\n",
       "      <td>2016</td>\n",
       "      <td>5</td>\n",
       "      <td>6</td>\n",
       "      <td>-1.00</td>\n",
       "      <td>0.08</td>\n",
       "      <td>1.49</td>\n",
       "    </tr>\n",
       "    <tr>\n",
       "      <th>5</th>\n",
       "      <td>2</td>\n",
       "      <td>2016-06-01</td>\n",
       "      <td>1.35</td>\n",
       "      <td>0.726667</td>\n",
       "      <td>2016</td>\n",
       "      <td>6</td>\n",
       "      <td>2</td>\n",
       "      <td>1.83</td>\n",
       "      <td>-1.00</td>\n",
       "      <td>0.08</td>\n",
       "    </tr>\n",
       "    <tr>\n",
       "      <th>6</th>\n",
       "      <td>2</td>\n",
       "      <td>2016-07-01</td>\n",
       "      <td>1.18</td>\n",
       "      <td>1.453333</td>\n",
       "      <td>2016</td>\n",
       "      <td>7</td>\n",
       "      <td>4</td>\n",
       "      <td>1.35</td>\n",
       "      <td>1.83</td>\n",
       "      <td>-1.00</td>\n",
       "    </tr>\n",
       "    <tr>\n",
       "      <th>7</th>\n",
       "      <td>2</td>\n",
       "      <td>2016-08-01</td>\n",
       "      <td>0.47</td>\n",
       "      <td>1.000000</td>\n",
       "      <td>2016</td>\n",
       "      <td>8</td>\n",
       "      <td>0</td>\n",
       "      <td>1.18</td>\n",
       "      <td>1.35</td>\n",
       "      <td>1.83</td>\n",
       "    </tr>\n",
       "  </tbody>\n",
       "</table>\n",
       "</div>"
      ],
      "text/plain": [
       "   id       date  value  rolling_mean  year  month  day_of_week  lag_value_1  \\\n",
       "3   2 2016-04-01  -1.00      0.190000  2016      4            4         0.08   \n",
       "4   2 2016-05-01   1.83      0.303333  2016      5            6        -1.00   \n",
       "5   2 2016-06-01   1.35      0.726667  2016      6            2         1.83   \n",
       "6   2 2016-07-01   1.18      1.453333  2016      7            4         1.35   \n",
       "7   2 2016-08-01   0.47      1.000000  2016      8            0         1.18   \n",
       "\n",
       "   lag_value_2  lag_value_3  \n",
       "3         1.49         0.78  \n",
       "4         0.08         1.49  \n",
       "5        -1.00         0.08  \n",
       "6         1.83        -1.00  \n",
       "7         1.35         1.83  "
      ]
     },
     "execution_count": 59,
     "metadata": {},
     "output_type": "execute_result"
    }
   ],
   "source": [
    "new_test.head()"
   ]
  },
  {
   "cell_type": "markdown",
   "id": "55505bd7-35a2-495f-8b53-cfb6f1df92a8",
   "metadata": {},
   "source": [
    "## Обучение модели"
   ]
  },
  {
   "cell_type": "markdown",
   "id": "3cc03d8d-7e1f-47b7-aa8f-cf2e60796a2e",
   "metadata": {},
   "source": [
    "Удалим столбцы:\n",
    "* id\n",
    "* label\n",
    "* date"
   ]
  },
  {
   "cell_type": "markdown",
   "id": "84149010-2901-4974-bc4c-9e1f7d85941d",
   "metadata": {},
   "source": [
    "### Подготовка модели"
   ]
  },
  {
   "cell_type": "code",
   "execution_count": 63,
   "id": "c2eb31f0-6a60-40bb-9b75-d36315a7f744",
   "metadata": {},
   "outputs": [],
   "source": [
    "X = new_train.drop(columns=['id', 'label', 'date'])"
   ]
  },
  {
   "cell_type": "code",
   "execution_count": 64,
   "id": "f27d6f7f-b570-4544-8749-ea1d689b2c27",
   "metadata": {},
   "outputs": [
    {
     "data": {
      "text/html": [
       "<div>\n",
       "<style scoped>\n",
       "    .dataframe tbody tr th:only-of-type {\n",
       "        vertical-align: middle;\n",
       "    }\n",
       "\n",
       "    .dataframe tbody tr th {\n",
       "        vertical-align: top;\n",
       "    }\n",
       "\n",
       "    .dataframe thead th {\n",
       "        text-align: right;\n",
       "    }\n",
       "</style>\n",
       "<table border=\"1\" class=\"dataframe\">\n",
       "  <thead>\n",
       "    <tr style=\"text-align: right;\">\n",
       "      <th></th>\n",
       "      <th>value</th>\n",
       "      <th>rolling_mean</th>\n",
       "      <th>year</th>\n",
       "      <th>month</th>\n",
       "      <th>day_of_week</th>\n",
       "      <th>lag_value_1</th>\n",
       "      <th>lag_value_2</th>\n",
       "      <th>lag_value_3</th>\n",
       "    </tr>\n",
       "  </thead>\n",
       "  <tbody>\n",
       "    <tr>\n",
       "      <th>3</th>\n",
       "      <td>0.0</td>\n",
       "      <td>0.0</td>\n",
       "      <td>2016</td>\n",
       "      <td>4</td>\n",
       "      <td>4</td>\n",
       "      <td>0.0</td>\n",
       "      <td>0.0</td>\n",
       "      <td>0.0</td>\n",
       "    </tr>\n",
       "    <tr>\n",
       "      <th>4</th>\n",
       "      <td>0.0</td>\n",
       "      <td>0.0</td>\n",
       "      <td>2016</td>\n",
       "      <td>5</td>\n",
       "      <td>6</td>\n",
       "      <td>0.0</td>\n",
       "      <td>0.0</td>\n",
       "      <td>0.0</td>\n",
       "    </tr>\n",
       "    <tr>\n",
       "      <th>5</th>\n",
       "      <td>0.0</td>\n",
       "      <td>0.0</td>\n",
       "      <td>2016</td>\n",
       "      <td>6</td>\n",
       "      <td>2</td>\n",
       "      <td>0.0</td>\n",
       "      <td>0.0</td>\n",
       "      <td>0.0</td>\n",
       "    </tr>\n",
       "    <tr>\n",
       "      <th>6</th>\n",
       "      <td>0.0</td>\n",
       "      <td>0.0</td>\n",
       "      <td>2016</td>\n",
       "      <td>7</td>\n",
       "      <td>4</td>\n",
       "      <td>0.0</td>\n",
       "      <td>0.0</td>\n",
       "      <td>0.0</td>\n",
       "    </tr>\n",
       "    <tr>\n",
       "      <th>7</th>\n",
       "      <td>0.0</td>\n",
       "      <td>0.0</td>\n",
       "      <td>2016</td>\n",
       "      <td>8</td>\n",
       "      <td>0</td>\n",
       "      <td>0.0</td>\n",
       "      <td>0.0</td>\n",
       "      <td>0.0</td>\n",
       "    </tr>\n",
       "  </tbody>\n",
       "</table>\n",
       "</div>"
      ],
      "text/plain": [
       "   value  rolling_mean  year  month  day_of_week  lag_value_1  lag_value_2  \\\n",
       "3    0.0           0.0  2016      4            4          0.0          0.0   \n",
       "4    0.0           0.0  2016      5            6          0.0          0.0   \n",
       "5    0.0           0.0  2016      6            2          0.0          0.0   \n",
       "6    0.0           0.0  2016      7            4          0.0          0.0   \n",
       "7    0.0           0.0  2016      8            0          0.0          0.0   \n",
       "\n",
       "   lag_value_3  \n",
       "3          0.0  \n",
       "4          0.0  \n",
       "5          0.0  \n",
       "6          0.0  \n",
       "7          0.0  "
      ]
     },
     "execution_count": 64,
     "metadata": {},
     "output_type": "execute_result"
    }
   ],
   "source": [
    "X.head()"
   ]
  },
  {
   "cell_type": "code",
   "execution_count": 65,
   "id": "a7a003fa-e13a-48b2-bae3-8bf2ebaed19f",
   "metadata": {},
   "outputs": [],
   "source": [
    "y = new_train['label']"
   ]
  },
  {
   "cell_type": "code",
   "execution_count": 66,
   "id": "779a7ecb-e823-4573-b46b-a10332840446",
   "metadata": {},
   "outputs": [
    {
     "data": {
      "text/plain": [
       "3    0\n",
       "4    0\n",
       "5    0\n",
       "6    0\n",
       "7    0\n",
       "Name: label, dtype: int32"
      ]
     },
     "execution_count": 66,
     "metadata": {},
     "output_type": "execute_result"
    }
   ],
   "source": [
    "y.head()"
   ]
  },
  {
   "cell_type": "code",
   "execution_count": 67,
   "id": "5cb47b4d-f9d7-4e83-9963-31034417e2d1",
   "metadata": {},
   "outputs": [],
   "source": [
    "X_train, X_valid, y_train, y_valid = train_test_split(X, y, shuffle=False)"
   ]
  },
  {
   "cell_type": "code",
   "execution_count": 68,
   "id": "be57c09b-0034-418e-a11f-5af4c1657192",
   "metadata": {},
   "outputs": [],
   "source": [
    "tscv = TimeSeriesSplit(n_splits=5)"
   ]
  },
  {
   "cell_type": "markdown",
   "id": "48948cc4-b98e-4802-a537-ada4367601b7",
   "metadata": {},
   "source": [
    "### Baseline"
   ]
  },
  {
   "cell_type": "code",
   "execution_count": 70,
   "id": "6a3d7c03-7bf3-4711-a2e1-d1cd710d546a",
   "metadata": {},
   "outputs": [
    {
     "data": {
      "text/plain": [
       "0.5"
      ]
     },
     "execution_count": 70,
     "metadata": {},
     "output_type": "execute_result"
    }
   ],
   "source": [
    "dummy_clf = DummyClassifier()\n",
    "dummy_clf.fit(X_train, y_train)\n",
    "dummy_model_probas = dummy_clf.predict_proba(X_train)[:,1]\n",
    "roc_auc_score(y_train, dummy_model_probas)"
   ]
  },
  {
   "cell_type": "markdown",
   "id": "049317dc-e63b-4e3d-81f4-3bfa7fb23e7c",
   "metadata": {},
   "source": [
    "Модель сравнима с броском монеты"
   ]
  },
  {
   "cell_type": "markdown",
   "id": "1b241f88-d0d8-43f8-ae32-efd1c428a65e",
   "metadata": {},
   "source": [
    "### Logistic Regression"
   ]
  },
  {
   "cell_type": "code",
   "execution_count": 73,
   "id": "24d8b1a0-ff3c-4a4b-b122-d30abae2f44c",
   "metadata": {},
   "outputs": [
    {
     "name": "stderr",
     "output_type": "stream",
     "text": [
      "C:\\anaconda\\Lib\\site-packages\\sklearn\\model_selection\\_search.py:320: UserWarning: The total space of parameters 4 is smaller than n_iter=10. Running 4 iterations. For exhaustive searches, use GridSearchCV.\n",
      "  warnings.warn(\n"
     ]
    },
    {
     "name": "stdout",
     "output_type": "stream",
     "text": [
      "Best parameters: {'C': 3}\n",
      "ROC-AUC of Logistic Regression: 0.5463024314365742\n"
     ]
    },
    {
     "name": "stderr",
     "output_type": "stream",
     "text": [
      "C:\\anaconda\\Lib\\site-packages\\sklearn\\linear_model\\_logistic.py:469: ConvergenceWarning: lbfgs failed to converge (status=1):\n",
      "STOP: TOTAL NO. of ITERATIONS REACHED LIMIT.\n",
      "\n",
      "Increase the number of iterations (max_iter) or scale the data as shown in:\n",
      "    https://scikit-learn.org/stable/modules/preprocessing.html\n",
      "Please also refer to the documentation for alternative solver options:\n",
      "    https://scikit-learn.org/stable/modules/linear_model.html#logistic-regression\n",
      "  n_iter_i = _check_optimize_result(\n"
     ]
    }
   ],
   "source": [
    "lr = LogisticRegression()\n",
    "parameters ={\n",
    "    'C': range(1, 5)\n",
    "}\n",
    "\n",
    "RSCV = RandomizedSearchCV(lr, parameters, n_jobs=-1, cv=tscv, scoring='roc_auc')\n",
    "\n",
    "RSCV.fit(X_train, y_train)\n",
    "best_rfc = RSCV.best_estimator_\n",
    "print('Best parameters:', RSCV.best_params_)\n",
    "print('ROC-AUC of Logistic Regression:', abs(RSCV.best_score_))"
   ]
  },
  {
   "cell_type": "markdown",
   "id": "63cdd66a-9383-4eb6-b083-5c36da1968c0",
   "metadata": {},
   "source": [
    "Метрика модели не особо лучше, чем baseline модель"
   ]
  },
  {
   "cell_type": "markdown",
   "id": "55b4773e-4a2c-4de9-8cec-7f570fa5ea0b",
   "metadata": {},
   "source": [
    "### Random Forest Classifier"
   ]
  },
  {
   "cell_type": "code",
   "execution_count": 76,
   "id": "83db1499-4dff-447c-b893-262e41bbc5f1",
   "metadata": {},
   "outputs": [
    {
     "name": "stderr",
     "output_type": "stream",
     "text": [
      "C:\\anaconda\\Lib\\site-packages\\sklearn\\model_selection\\_search.py:320: UserWarning: The total space of parameters 6 is smaller than n_iter=10. Running 6 iterations. For exhaustive searches, use GridSearchCV.\n",
      "  warnings.warn(\n"
     ]
    },
    {
     "name": "stdout",
     "output_type": "stream",
     "text": [
      "Best parameters: {'n_estimators': 200, 'max_depth': 4}\n",
      "ROC-AUC of Random Forest Classifier: 0.7815738440678359\n"
     ]
    }
   ],
   "source": [
    "rfc = RandomForestClassifier()\n",
    "\n",
    "parameters = {\n",
    "    'n_estimators': [100, 150, 200],\n",
    "    'max_depth': range(3, 5)\n",
    "}\n",
    "\n",
    "RSCV = RandomizedSearchCV(rfc, parameters, n_jobs=-1, cv=tscv, scoring='roc_auc')\n",
    "\n",
    "RSCV.fit(X_train, y_train)\n",
    "best_rfc = RSCV.best_estimator_\n",
    "print('Best parameters:', RSCV.best_params_)\n",
    "print('ROC-AUC of Random Forest Classifier:', abs(RSCV.best_score_))"
   ]
  },
  {
   "cell_type": "markdown",
   "id": "08f5dd69-41b3-45d1-a137-f993fa859e6a",
   "metadata": {},
   "source": [
    "Модель показывает хороший результат, но тратит много времени на работу"
   ]
  },
  {
   "cell_type": "markdown",
   "id": "42788e3e-b063-4e86-92d1-6c51ec51b1d1",
   "metadata": {},
   "source": [
    "### CatBoostClassifier"
   ]
  },
  {
   "cell_type": "code",
   "execution_count": 79,
   "id": "94d78e8a-8c43-451b-9c11-a8773c21412b",
   "metadata": {
    "scrolled": true
   },
   "outputs": [
    {
     "name": "stdout",
     "output_type": "stream",
     "text": [
      "0:\tlearn: 0.6604717\ttotal: 517ms\tremaining: 20.2s\n",
      "1:\tlearn: 0.6333260\ttotal: 862ms\tremaining: 16.4s\n",
      "2:\tlearn: 0.6109224\ttotal: 1.25s\tremaining: 15.5s\n",
      "3:\tlearn: 0.5918419\ttotal: 1.63s\tremaining: 14.7s\n",
      "4:\tlearn: 0.5754876\ttotal: 1.97s\tremaining: 13.8s\n",
      "5:\tlearn: 0.5613636\ttotal: 2.3s\tremaining: 13.1s\n",
      "6:\tlearn: 0.5490399\ttotal: 2.65s\tremaining: 12.5s\n",
      "7:\tlearn: 0.5383557\ttotal: 2.98s\tremaining: 11.9s\n",
      "8:\tlearn: 0.5289086\ttotal: 3.34s\tremaining: 11.5s\n",
      "9:\tlearn: 0.5206135\ttotal: 3.66s\tremaining: 11s\n",
      "10:\tlearn: 0.5132351\ttotal: 4.02s\tremaining: 10.6s\n",
      "11:\tlearn: 0.5066637\ttotal: 4.36s\tremaining: 10.2s\n",
      "12:\tlearn: 0.5009407\ttotal: 4.73s\tremaining: 9.82s\n",
      "13:\tlearn: 0.4958360\ttotal: 5.1s\tremaining: 9.47s\n",
      "14:\tlearn: 0.4912970\ttotal: 5.42s\tremaining: 9.03s\n",
      "15:\tlearn: 0.4871880\ttotal: 5.79s\tremaining: 8.68s\n",
      "16:\tlearn: 0.4835191\ttotal: 6.11s\tremaining: 8.26s\n",
      "17:\tlearn: 0.4802240\ttotal: 6.46s\tremaining: 7.89s\n",
      "18:\tlearn: 0.4772136\ttotal: 6.83s\tremaining: 7.54s\n",
      "19:\tlearn: 0.4745173\ttotal: 7.2s\tremaining: 7.2s\n",
      "20:\tlearn: 0.4720710\ttotal: 7.54s\tremaining: 6.83s\n",
      "21:\tlearn: 0.4699375\ttotal: 7.88s\tremaining: 6.44s\n",
      "22:\tlearn: 0.4679192\ttotal: 8.23s\tremaining: 6.08s\n",
      "23:\tlearn: 0.4661860\ttotal: 8.57s\tremaining: 5.71s\n",
      "24:\tlearn: 0.4646377\ttotal: 8.91s\tremaining: 5.34s\n",
      "25:\tlearn: 0.4632994\ttotal: 9.25s\tremaining: 4.98s\n",
      "26:\tlearn: 0.4620413\ttotal: 9.59s\tremaining: 4.62s\n",
      "27:\tlearn: 0.4608333\ttotal: 9.96s\tremaining: 4.27s\n",
      "28:\tlearn: 0.4597402\ttotal: 10.3s\tremaining: 3.92s\n",
      "29:\tlearn: 0.4587071\ttotal: 10.7s\tremaining: 3.56s\n",
      "30:\tlearn: 0.4577972\ttotal: 11s\tremaining: 3.2s\n",
      "31:\tlearn: 0.4570898\ttotal: 11.4s\tremaining: 2.84s\n",
      "32:\tlearn: 0.4562899\ttotal: 11.8s\tremaining: 2.49s\n",
      "33:\tlearn: 0.4555067\ttotal: 12.1s\tremaining: 2.13s\n",
      "34:\tlearn: 0.4551208\ttotal: 12.4s\tremaining: 1.78s\n",
      "35:\tlearn: 0.4545229\ttotal: 12.8s\tremaining: 1.43s\n",
      "36:\tlearn: 0.4538851\ttotal: 13.2s\tremaining: 1.07s\n",
      "37:\tlearn: 0.4535665\ttotal: 13.5s\tremaining: 713ms\n",
      "38:\tlearn: 0.4531912\ttotal: 13.9s\tremaining: 357ms\n",
      "39:\tlearn: 0.4528496\ttotal: 14.3s\tremaining: 0us\n",
      "Best parameters: {'learning_rate': 0.1, 'l2_leaf_reg': 7, 'iterations': 40, 'depth': 14}\n",
      "ROC-AUC of Cat Boost Classifier: 0.7875832066933299\n"
     ]
    }
   ],
   "source": [
    "cat = CatBoostClassifier()\n",
    "\n",
    "parameters = {'learning_rate': [0.1, 0.2],\n",
    "        'depth': [6, 10, 14],\n",
    "        'l2_leaf_reg': [5, 7],\n",
    "        'iterations': range(20, 60, 20)}\n",
    "\n",
    "RSCV = RandomizedSearchCV(cat, parameters, n_jobs=-1, cv=tscv, scoring='roc_auc')\n",
    "\n",
    "RSCV.fit(X_train, y_train)\n",
    "best_rfc = RSCV.best_estimator_\n",
    "print('Best parameters:', RSCV.best_params_)\n",
    "print('ROC-AUC of Cat Boost Classifier:', abs(RSCV.best_score_))"
   ]
  },
  {
   "cell_type": "markdown",
   "id": "84ad712e-38b0-4aaf-ae21-d6123a39c9f4",
   "metadata": {},
   "source": [
    "Модель показывает результат чуть лучше, чем случайный лес, имея при этом скорость работы выше"
   ]
  },
  {
   "cell_type": "markdown",
   "id": "53bfc88f-5c28-4547-8cc5-f5f858d3e293",
   "metadata": {},
   "source": [
    "## Тестовая выборка"
   ]
  },
  {
   "cell_type": "markdown",
   "id": "202afbf3-c3b8-43ff-ac84-2abf4bc1ef1b",
   "metadata": {},
   "source": [
    "Для предсказания выберем модель CatBoostClassifier"
   ]
  },
  {
   "cell_type": "code",
   "execution_count": 83,
   "id": "1710f14f-c27d-42b2-9402-7a50d49f6348",
   "metadata": {
    "scrolled": true
   },
   "outputs": [
    {
     "data": {
      "text/html": [
       "<div>\n",
       "<style scoped>\n",
       "    .dataframe tbody tr th:only-of-type {\n",
       "        vertical-align: middle;\n",
       "    }\n",
       "\n",
       "    .dataframe tbody tr th {\n",
       "        vertical-align: top;\n",
       "    }\n",
       "\n",
       "    .dataframe thead th {\n",
       "        text-align: right;\n",
       "    }\n",
       "</style>\n",
       "<table border=\"1\" class=\"dataframe\">\n",
       "  <thead>\n",
       "    <tr style=\"text-align: right;\">\n",
       "      <th></th>\n",
       "      <th>id</th>\n",
       "      <th>date</th>\n",
       "      <th>value</th>\n",
       "      <th>rolling_mean</th>\n",
       "      <th>year</th>\n",
       "      <th>month</th>\n",
       "      <th>day_of_week</th>\n",
       "      <th>lag_value_1</th>\n",
       "      <th>lag_value_2</th>\n",
       "      <th>lag_value_3</th>\n",
       "    </tr>\n",
       "  </thead>\n",
       "  <tbody>\n",
       "    <tr>\n",
       "      <th>3</th>\n",
       "      <td>2</td>\n",
       "      <td>2016-04-01</td>\n",
       "      <td>-1.00</td>\n",
       "      <td>0.190000</td>\n",
       "      <td>2016</td>\n",
       "      <td>4</td>\n",
       "      <td>4</td>\n",
       "      <td>0.08</td>\n",
       "      <td>1.49</td>\n",
       "      <td>0.78</td>\n",
       "    </tr>\n",
       "    <tr>\n",
       "      <th>4</th>\n",
       "      <td>2</td>\n",
       "      <td>2016-05-01</td>\n",
       "      <td>1.83</td>\n",
       "      <td>0.303333</td>\n",
       "      <td>2016</td>\n",
       "      <td>5</td>\n",
       "      <td>6</td>\n",
       "      <td>-1.00</td>\n",
       "      <td>0.08</td>\n",
       "      <td>1.49</td>\n",
       "    </tr>\n",
       "    <tr>\n",
       "      <th>5</th>\n",
       "      <td>2</td>\n",
       "      <td>2016-06-01</td>\n",
       "      <td>1.35</td>\n",
       "      <td>0.726667</td>\n",
       "      <td>2016</td>\n",
       "      <td>6</td>\n",
       "      <td>2</td>\n",
       "      <td>1.83</td>\n",
       "      <td>-1.00</td>\n",
       "      <td>0.08</td>\n",
       "    </tr>\n",
       "    <tr>\n",
       "      <th>6</th>\n",
       "      <td>2</td>\n",
       "      <td>2016-07-01</td>\n",
       "      <td>1.18</td>\n",
       "      <td>1.453333</td>\n",
       "      <td>2016</td>\n",
       "      <td>7</td>\n",
       "      <td>4</td>\n",
       "      <td>1.35</td>\n",
       "      <td>1.83</td>\n",
       "      <td>-1.00</td>\n",
       "    </tr>\n",
       "    <tr>\n",
       "      <th>7</th>\n",
       "      <td>2</td>\n",
       "      <td>2016-08-01</td>\n",
       "      <td>0.47</td>\n",
       "      <td>1.000000</td>\n",
       "      <td>2016</td>\n",
       "      <td>8</td>\n",
       "      <td>0</td>\n",
       "      <td>1.18</td>\n",
       "      <td>1.35</td>\n",
       "      <td>1.83</td>\n",
       "    </tr>\n",
       "  </tbody>\n",
       "</table>\n",
       "</div>"
      ],
      "text/plain": [
       "   id       date  value  rolling_mean  year  month  day_of_week  lag_value_1  \\\n",
       "3   2 2016-04-01  -1.00      0.190000  2016      4            4         0.08   \n",
       "4   2 2016-05-01   1.83      0.303333  2016      5            6        -1.00   \n",
       "5   2 2016-06-01   1.35      0.726667  2016      6            2         1.83   \n",
       "6   2 2016-07-01   1.18      1.453333  2016      7            4         1.35   \n",
       "7   2 2016-08-01   0.47      1.000000  2016      8            0         1.18   \n",
       "\n",
       "   lag_value_2  lag_value_3  \n",
       "3         1.49         0.78  \n",
       "4         0.08         1.49  \n",
       "5        -1.00         0.08  \n",
       "6         1.83        -1.00  \n",
       "7         1.35         1.83  "
      ]
     },
     "execution_count": 83,
     "metadata": {},
     "output_type": "execute_result"
    }
   ],
   "source": [
    "new_test.head()"
   ]
  },
  {
   "cell_type": "code",
   "execution_count": 84,
   "id": "970a81f1-fb23-4cc6-9310-b96e219d2d17",
   "metadata": {},
   "outputs": [],
   "source": [
    "new_test.reset_index(drop=True, inplace=True)"
   ]
  },
  {
   "cell_type": "code",
   "execution_count": 85,
   "id": "34ce2dcf-2fed-4a76-ab06-71278703260b",
   "metadata": {},
   "outputs": [],
   "source": [
    "test_predictions = RSCV.predict_proba(new_test)[:, 1]"
   ]
  },
  {
   "cell_type": "code",
   "execution_count": 86,
   "id": "4e92d7d9-7481-4f5e-b241-74e4eadca1cf",
   "metadata": {},
   "outputs": [],
   "source": [
    "predictions = pd.DataFrame(data=test_predictions, columns=['score'])"
   ]
  },
  {
   "cell_type": "code",
   "execution_count": 87,
   "id": "2d3acc89-36a1-4dca-b7cf-e689abf82207",
   "metadata": {},
   "outputs": [],
   "source": [
    "predictions['id'] = new_test['id']"
   ]
  },
  {
   "cell_type": "code",
   "execution_count": 88,
   "id": "d32ca2a7-094b-46dc-a7ba-b0af3517bb7c",
   "metadata": {},
   "outputs": [],
   "source": [
    "predictions = predictions.reindex(columns=['id', 'score'])"
   ]
  },
  {
   "cell_type": "code",
   "execution_count": 89,
   "id": "61d7cf1d-a52b-4f4f-b3af-d7b05fe82d45",
   "metadata": {},
   "outputs": [],
   "source": [
    "submissions = predictions.groupby('id').mean().reset_index()"
   ]
  },
  {
   "cell_type": "code",
   "execution_count": 90,
   "id": "78205f3c-751a-40e3-a33a-4483094dc522",
   "metadata": {},
   "outputs": [
    {
     "data": {
      "text/html": [
       "<div>\n",
       "<style scoped>\n",
       "    .dataframe tbody tr th:only-of-type {\n",
       "        vertical-align: middle;\n",
       "    }\n",
       "\n",
       "    .dataframe tbody tr th {\n",
       "        vertical-align: top;\n",
       "    }\n",
       "\n",
       "    .dataframe thead th {\n",
       "        text-align: right;\n",
       "    }\n",
       "</style>\n",
       "<table border=\"1\" class=\"dataframe\">\n",
       "  <thead>\n",
       "    <tr style=\"text-align: right;\">\n",
       "      <th></th>\n",
       "      <th>id</th>\n",
       "      <th>score</th>\n",
       "    </tr>\n",
       "  </thead>\n",
       "  <tbody>\n",
       "    <tr>\n",
       "      <th>0</th>\n",
       "      <td>2</td>\n",
       "      <td>0.455705</td>\n",
       "    </tr>\n",
       "    <tr>\n",
       "      <th>1</th>\n",
       "      <td>6</td>\n",
       "      <td>0.285414</td>\n",
       "    </tr>\n",
       "    <tr>\n",
       "      <th>2</th>\n",
       "      <td>7</td>\n",
       "      <td>0.333734</td>\n",
       "    </tr>\n",
       "    <tr>\n",
       "      <th>3</th>\n",
       "      <td>13</td>\n",
       "      <td>0.407444</td>\n",
       "    </tr>\n",
       "    <tr>\n",
       "      <th>4</th>\n",
       "      <td>17</td>\n",
       "      <td>0.270572</td>\n",
       "    </tr>\n",
       "  </tbody>\n",
       "</table>\n",
       "</div>"
      ],
      "text/plain": [
       "   id     score\n",
       "0   2  0.455705\n",
       "1   6  0.285414\n",
       "2   7  0.333734\n",
       "3  13  0.407444\n",
       "4  17  0.270572"
      ]
     },
     "execution_count": 90,
     "metadata": {},
     "output_type": "execute_result"
    }
   ],
   "source": [
    "submissions.head()"
   ]
  },
  {
   "cell_type": "code",
   "execution_count": 91,
   "id": "03a55aee-2e00-494e-a54b-44400c75b1ec",
   "metadata": {},
   "outputs": [
    {
     "data": {
      "text/plain": [
       "(20000, 2)"
      ]
     },
     "execution_count": 91,
     "metadata": {},
     "output_type": "execute_result"
    }
   ],
   "source": [
    "submissions.shape"
   ]
  },
  {
   "cell_type": "markdown",
   "id": "da4be39f-b327-4a86-b824-7e1b329ff707",
   "metadata": {},
   "source": [
    "submissions.to_csv(r\"D:\\submissions\\submissions.csv\")"
   ]
  }
 ],
 "metadata": {
  "kernelspec": {
   "display_name": "Python 3 (ipykernel)",
   "language": "python",
   "name": "python3"
  },
  "language_info": {
   "codemirror_mode": {
    "name": "ipython",
    "version": 3
   },
   "file_extension": ".py",
   "mimetype": "text/x-python",
   "name": "python",
   "nbconvert_exporter": "python",
   "pygments_lexer": "ipython3",
   "version": "3.12.4"
  }
 },
 "nbformat": 4,
 "nbformat_minor": 5
}
