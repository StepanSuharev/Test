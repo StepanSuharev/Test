{
 "cells": [
  {
   "cell_type": "markdown",
   "id": "2e0ee7ba-7680-4e69-886b-656f6b15b45c",
   "metadata": {},
   "source": [
    "Для работы скрипта необходимо скачать файл CATBOOST.z, приложенный в репозитории."
   ]
  },
  {
   "cell_type": "code",
   "execution_count": null,
   "id": "f894aa4f-e12f-4074-b360-d0041b7654e7",
   "metadata": {},
   "outputs": [],
   "source": [
    "import pandas as pd\n",
    "import joblib\n",
    "from sklearn.model_selection import RandomizedSearchCV\n",
    "from statistics import mean\n",
    "from catboost import CatBoostClassifier"
   ]
  },
  {
   "cell_type": "code",
   "execution_count": null,
   "id": "df3bb725-0168-4f1f-ad54-9cccc04ec155",
   "metadata": {},
   "outputs": [],
   "source": [
    "def submit():\n",
    "    test = pd.read_parquet(\"https://www.dropbox.com/scl/fi/iy4il4b2248czc3bmd4kf/test.parquet?rlkey=d7z4q0wwelj0f7qpb1lj485pe&st=crox5j23&dl=1\")\n",
    "    test['dates'] = test['dates'].apply(lambda x: [pd.to_datetime(d) for d in x])\n",
    "    new_test = pd.DataFrame({\n",
    "        'id': test['id'].repeat(test['dates'].str.len()),\n",
    "        'date': [date for dates in test['dates'] for date in dates],\n",
    "        'value': [value for values in test['values'] for value in values]\n",
    "    })\n",
    "    \n",
    "    def additional_features(df):\n",
    "        df = df.set_index(['id', 'date']).unstack(fill_value=0).stack().reset_index()\n",
    "        df['rolling_mean'] = df.groupby('id')['value'].transform(lambda x: x.rolling(window=3).mean())\n",
    "        df['year'] = df['date'].dt.year \n",
    "        df['month'] = df['date'].dt.month \n",
    "        df['day_of_week'] = df['date'].dt.dayofweek\n",
    "        df['lag_value_1'] = df['value'].shift(1)\n",
    "        df['lag_value_2'] = df['value'].shift(2)\n",
    "        df['lag_value_3'] = df['value'].shift(3)\n",
    "        df.dropna(inplace=True)\n",
    "        return df\n",
    "        \n",
    "    new_test = additional_features(new_test)\n",
    "    new_test.reset_index(drop=True, inplace=True)\n",
    "    RSCV = joblib.load('CATBOOST.z')\n",
    "    test_predictions = RSCV.predict_proba(new_test)[:, 1]\n",
    "    predictions = pd.DataFrame(data=test_predictions, columns=['score'])\n",
    "    predictions['id'] = new_test['id']\n",
    "    predictions = predictions.reindex(columns=['id', 'score'])\n",
    "    submissions = predictions.groupby('id').mean().reset_index()\n",
    "    submissions.to_csv(\"subtest.csv\")"
   ]
  },
  {
   "cell_type": "code",
   "execution_count": null,
   "id": "0cdc9db1-d994-4ddb-a30e-24cab000d1fe",
   "metadata": {},
   "outputs": [],
   "source": [
    "submit()"
   ]
  },
  {
   "cell_type": "code",
   "execution_count": null,
   "id": "c5c34126-e8c1-4447-996d-fa807fe0aff1",
   "metadata": {},
   "outputs": [],
   "source": []
  }
 ],
 "metadata": {
  "kernelspec": {
   "display_name": "Python 3 (ipykernel)",
   "language": "python",
   "name": "python3"
  },
  "language_info": {
   "codemirror_mode": {
    "name": "ipython",
    "version": 3
   },
   "file_extension": ".py",
   "mimetype": "text/x-python",
   "name": "python",
   "nbconvert_exporter": "python",
   "pygments_lexer": "ipython3",
   "version": "3.12.4"
  }
 },
 "nbformat": 4,
 "nbformat_minor": 5
}
